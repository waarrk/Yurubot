{
  "nbformat": 4,
  "nbformat_minor": 0,
  "metadata": {
    "colab": {
      "name": "AlphabetHSU.ipynb",
      "provenance": [],
      "private_outputs": true,
      "collapsed_sections": []
    },
    "kernelspec": {
      "name": "python3",
      "display_name": "Python 3"
    },
    "accelerator": "GPU"
  },
  "cells": [
    {
      "cell_type": "code",
      "metadata": {
        "id": "Khw18391dujY",
        "colab_type": "code",
        "colab": {}
      },
      "source": [
        "import requests\n",
        "import re\n",
        "import uuid\n",
        "from bs4 import BeautifulSoup\n",
        "import os"
      ],
      "execution_count": 0,
      "outputs": []
    },
    {
      "cell_type": "code",
      "metadata": {
        "id": "lHkl-8C8nRxV",
        "colab_type": "code",
        "colab": {}
      },
      "source": [
        "if not os.path.exists(images_dir):\n",
        "    os.makedirs(images_dir)\n"
      ],
      "execution_count": 0,
      "outputs": []
    },
    {
      "cell_type": "code",
      "metadata": {
        "id": "rJGX_ze-gHwY",
        "colab_type": "code",
        "colab": {}
      },
      "source": [
        "import sys\n",
        "import os\n",
        "import subprocess"
      ],
      "execution_count": 0,
      "outputs": []
    },
    {
      "cell_type": "markdown",
      "metadata": {
        "id": "rKQOaPDWEMUG",
        "colab_type": "text"
      },
      "source": [
        "ここまで実行したらimages_dir下に新しいサブディレクトリを作って画像をそれぞれいれる"
      ]
    },
    {
      "cell_type": "code",
      "metadata": {
        "id": "TaG9u0m6gMYI",
        "colab_type": "code",
        "colab": {}
      },
      "source": [
        "backup_dir = './model'"
      ],
      "execution_count": 0,
      "outputs": []
    },
    {
      "cell_type": "code",
      "metadata": {
        "id": "fMz6PhP4gPWg",
        "colab_type": "code",
        "colab": {}
      },
      "source": [
        "def cmd(cmd):\n",
        "   p = subprocess.Popen(cmd, shell=True, stdout=subprocess.PIPE, stderr=subprocess.PIPE)\n",
        "   p.wait()\n",
        "   stdout, stderr = p.communicate()\n",
        "   return stdout.rstrip()\n",
        "\n",
        "dirs = cmd(\"ls \"+\"./image_data\")\n",
        "labels = dirs.splitlines()\n",
        "\n",
        "if os.path.exists(backup_dir):\n",
        "   cmd(\"rm  -rf \"+backup_dir)\n",
        "\n",
        "# make directories\n",
        "os.makedirs(backup_dir)\n",
        "labelsTxt_backup = open(backup_dir + '/labels.txt','w')\n",
        "classNo=0\n",
        "for label in labels:\n",
        "   labelsTxt_backup.write(label.decode('utf-8')+\"\\n\")\n",
        "   classNo += 1\n",
        "\n",
        "NUM_CLASSES = classNo\n",
        "print(\"class number=\" + str(NUM_CLASSES))\n",
        "labelsTxt_backup.close()"
      ],
      "execution_count": 0,
      "outputs": []
    },
    {
      "cell_type": "code",
      "metadata": {
        "id": "8mQ0KzbCgSj6",
        "colab_type": "code",
        "colab": {}
      },
      "source": [
        "!cat ./model/labels.txt"
      ],
      "execution_count": 0,
      "outputs": []
    },
    {
      "cell_type": "code",
      "metadata": {
        "id": "5BXUp17EgVF7",
        "colab_type": "code",
        "colab": {}
      },
      "source": [
        "import tensorflow as tf\n",
        "from tensorflow.python.keras.utils import np_utils\n",
        "from tensorflow.python.keras.layers.convolutional import Conv2D, MaxPooling2D\n",
        "from tensorflow.python.keras.models import Sequential\n",
        "from tensorflow.python.keras.layers.core import Dense, Dropout, Activation, Flatten\n",
        "from tensorflow.python.keras.preprocessing.image import array_to_img, img_to_array, load_img\n",
        "from tensorflow.python.keras import optimizers\n",
        "import numpy as np\n",
        "import pandas as pd\n",
        "from sklearn.model_selection import train_test_split\n",
        "import matplotlib.pyplot as plt\n",
        "import time"
      ],
      "execution_count": 0,
      "outputs": []
    },
    {
      "cell_type": "code",
      "metadata": {
        "id": "otlpLAwfgY2G",
        "colab_type": "code",
        "colab": {}
      },
      "source": [
        "def list_pictures(directory, ext=('jpg', 'jpeg', 'bmp', 'png', 'ppm', 'tif',\n",
        "                                  'tiff')):\n",
        "    \"\"\"Lists all pictures in a directory, including all subdirectories.\n",
        "    # Arguments\n",
        "        directory: string, absolute path to the directory\n",
        "        ext: tuple of strings or single string, extensions of the pictures\n",
        "    # Returns\n",
        "        a list of paths\n",
        "    \"\"\"\n",
        "    ext = tuple('.%s' % e for e in ((ext,) if isinstance(ext, str) else ext))\n",
        "    return [os.path.join(root, f)\n",
        "            for root, _, files in os.walk(directory) for f in files\n",
        "            if f.lower().endswith(ext)]"
      ],
      "execution_count": 0,
      "outputs": []
    },
    {
      "cell_type": "code",
      "metadata": {
        "id": "kaYKal8Ygb1_",
        "colab_type": "code",
        "colab": {}
      },
      "source": [
        "labels = []\n",
        "with open(backup_dir + '/labels.txt','r') as f:\n",
        "   for line in f:\n",
        "       labels.append(line.rstrip())\n",
        "print(labels)"
      ],
      "execution_count": 0,
      "outputs": []
    },
    {
      "cell_type": "code",
      "metadata": {
        "id": "D1xs9ocbge66",
        "colab_type": "code",
        "colab": {}
      },
      "source": [
        "X = []\n",
        "Y = []\n",
        "\n",
        "label_num = 0\n",
        "for label in labels:\n",
        "   print(label)\n",
        "   for picture in list_pictures('./image_data/' + label):\n",
        "       img = img_to_array(load_img(picture, target_size=(64,64)))\n",
        "       X.append(img)\n",
        "       Y.append(label_num)\n",
        "       \n",
        "   label_num += 1"
      ],
      "execution_count": 0,
      "outputs": []
    },
    {
      "cell_type": "code",
      "metadata": {
        "id": "q8GhKaZ4glpG",
        "colab_type": "code",
        "colab": {}
      },
      "source": [
        "# arrayに変換\n",
        "X = np.asarray(X)\n",
        "Y = np.asarray(Y)\n",
        "\n",
        "# 画素値を0から1の範囲に変換\n",
        "X = X.astype('float32')\n",
        "X = X / 255.0\n",
        "\n",
        "# クラスの形式を変換\n",
        "Y = np_utils.to_categorical(Y, NUM_CLASSES)\n",
        "\n",
        "# 学習用データとテストデータ\n",
        "X_train, X_test, y_train, y_test = train_test_split(X, Y, test_size=0.33, random_state=111)"
      ],
      "execution_count": 0,
      "outputs": []
    },
    {
      "cell_type": "code",
      "metadata": {
        "id": "LdU5mqofgqus",
        "colab_type": "code",
        "colab": {}
      },
      "source": [
        "# 学習率\n",
        "LEARNING_RATE = 0.001\n",
        "# バッチサイズ\n",
        "BATCH_SIZE = 5\n",
        "# エポック（世代数）\n",
        "EPOCHS = 100"
      ],
      "execution_count": 0,
      "outputs": []
    },
    {
      "cell_type": "code",
      "metadata": {
        "id": "pdzjbj5Fgtnz",
        "colab_type": "code",
        "colab": {}
      },
      "source": [
        "model = Sequential()\n",
        "\n",
        "model.add(Conv2D(32, (3, 3), padding='same', \n",
        "                input_shape=X_train.shape[1:]))\n",
        "model.add(Activation('relu'))\n",
        "model.add(Conv2D(64, (3, 3)))\n",
        "model.add(Activation('relu'))\n",
        "model.add(MaxPooling2D(pool_size=(2, 2)))\n",
        "model.add(Dropout(0.25))\n",
        "model.add(Flatten())\n",
        "model.add(Dense(128))\n",
        "model.add(Activation('relu'))\n",
        "model.add(Dropout(0.5))\n",
        "model.add(Dense(NUM_CLASSES))\n",
        "model.add(Activation('softmax'))\n",
        "\n",
        "sgd = optimizers.SGD(lr=LEARNING_RATE)\n",
        "\n",
        "model.compile(loss='categorical_crossentropy',\n",
        "             optimizer='SGD',\n",
        "             metrics=['accuracy'])"
      ],
      "execution_count": 0,
      "outputs": []
    },
    {
      "cell_type": "code",
      "metadata": {
        "id": "KBxU-bE_gxfX",
        "colab_type": "code",
        "colab": {}
      },
      "source": [
        "model.summary()"
      ],
      "execution_count": 0,
      "outputs": []
    },
    {
      "cell_type": "code",
      "metadata": {
        "id": "byhi26mug0M2",
        "colab_type": "code",
        "colab": {}
      },
      "source": [
        "# モデルの保存\n",
        "model_json_str = model.to_json()\n",
        "with open(backup_dir + '/mnist_deep_model.json', 'w') as f:\n",
        "   f.write(model_json_str)\n",
        "\n",
        "# 重みデータのバックアップ\n",
        "cb_cp = tf.keras.callbacks.ModelCheckpoint(backup_dir + '/weights.{epoch:02d}.hdf5', verbose=1, save_weights_only=True)\n",
        "# TensorBoard用のデータ\n",
        "cb_tf = tf.keras.callbacks.TensorBoard(log_dir=backup_dir + '/tensorBoard', histogram_freq=0)\n",
        "\n",
        "start = time.time()\n",
        "history = model.fit(X_train, y_train, batch_size=BATCH_SIZE, epochs=EPOCHS,\n",
        "                  validation_data = (X_test, y_test), verbose = 1,  callbacks=[cb_cp, cb_tf])\n",
        "elapsed_time = time.time() - start\n",
        "print (\"elapsed_time:{0}\".format(elapsed_time) + \"[sec]\")"
      ],
      "execution_count": 0,
      "outputs": []
    },
    {
      "cell_type": "code",
      "metadata": {
        "id": "UBE7y-Wvg365",
        "colab_type": "code",
        "colab": {}
      },
      "source": [
        "plt.plot(history.history['acc'])\n",
        "plt.plot(history.history['val_acc'])\n",
        "plt.title('model accuracy')\n",
        "plt.xlabel('epoch')\n",
        "plt.ylabel('accuracy')\n",
        "plt.legend(['acc', 'val_acc'], loc='lower right')\n",
        "plt.show()"
      ],
      "execution_count": 0,
      "outputs": []
    },
    {
      "cell_type": "code",
      "metadata": {
        "id": "Dg5WSBThg6oW",
        "colab_type": "code",
        "colab": {}
      },
      "source": [
        "plt.plot(history.history['loss'])\n",
        "plt.plot(history.history['val_loss'])\n",
        "plt.title('model loss')\n",
        "plt.ylabel('loss')\n",
        "plt.xlabel('epoch')\n",
        "plt.legend(['loss', 'val_loss'], loc='upper left')\n",
        "plt.show()"
      ],
      "execution_count": 0,
      "outputs": []
    }
  ]
}